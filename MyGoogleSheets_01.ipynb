{
 "cells": [
  {
   "cell_type": "markdown",
   "id": "dd76e272",
   "metadata": {},
   "source": [
    "Reference: \n",
    "\n",
    "https://erikrood.com/Posts/py_gsheets.html"
   ]
  },
  {
   "cell_type": "code",
   "execution_count": 1,
   "id": "21889891",
   "metadata": {},
   "outputs": [
    {
     "name": "stdout",
     "output_type": "stream",
     "text": [
      "Defaulting to user installation because normal site-packages is not writeable\n",
      "Requirement already satisfied: pygsheets in c:\\users\\user\\appdata\\roaming\\python\\python311\\site-packages (2.0.6)\n",
      "Requirement already satisfied: google-api-python-client>=2.50.0 in c:\\users\\user\\appdata\\roaming\\python\\python311\\site-packages (from pygsheets) (2.111.0)\n",
      "Requirement already satisfied: google-auth-oauthlib>=0.7.1 in c:\\users\\user\\appdata\\roaming\\python\\python311\\site-packages (from pygsheets) (1.2.0)\n",
      "Requirement already satisfied: httplib2<1.dev0,>=0.15.0 in c:\\users\\user\\appdata\\roaming\\python\\python311\\site-packages (from google-api-python-client>=2.50.0->pygsheets) (0.22.0)\n",
      "Requirement already satisfied: google-auth<3.0.0.dev0,>=1.19.0 in c:\\users\\user\\appdata\\roaming\\python\\python311\\site-packages (from google-api-python-client>=2.50.0->pygsheets) (2.25.2)\n",
      "Requirement already satisfied: google-auth-httplib2>=0.1.0 in c:\\users\\user\\appdata\\roaming\\python\\python311\\site-packages (from google-api-python-client>=2.50.0->pygsheets) (0.2.0)\n",
      "Requirement already satisfied: google-api-core!=2.0.*,!=2.1.*,!=2.2.*,!=2.3.0,<3.0.0.dev0,>=1.31.5 in c:\\users\\user\\appdata\\roaming\\python\\python311\\site-packages (from google-api-python-client>=2.50.0->pygsheets) (2.15.0)\n",
      "Requirement already satisfied: uritemplate<5,>=3.0.1 in c:\\users\\user\\appdata\\roaming\\python\\python311\\site-packages (from google-api-python-client>=2.50.0->pygsheets) (4.1.1)\n",
      "Requirement already satisfied: requests-oauthlib>=0.7.0 in c:\\users\\user\\appdata\\roaming\\python\\python311\\site-packages (from google-auth-oauthlib>=0.7.1->pygsheets) (1.3.1)\n",
      "Requirement already satisfied: googleapis-common-protos<2.0.dev0,>=1.56.2 in c:\\users\\user\\appdata\\roaming\\python\\python311\\site-packages (from google-api-core!=2.0.*,!=2.1.*,!=2.2.*,!=2.3.0,<3.0.0.dev0,>=1.31.5->google-api-python-client>=2.50.0->pygsheets) (1.62.0)\n",
      "Requirement already satisfied: protobuf!=3.20.0,!=3.20.1,!=4.21.0,!=4.21.1,!=4.21.2,!=4.21.3,!=4.21.4,!=4.21.5,<5.0.0.dev0,>=3.19.5 in c:\\users\\user\\appdata\\roaming\\python\\python311\\site-packages (from google-api-core!=2.0.*,!=2.1.*,!=2.2.*,!=2.3.0,<3.0.0.dev0,>=1.31.5->google-api-python-client>=2.50.0->pygsheets) (4.25.1)\n",
      "Requirement already satisfied: requests<3.0.0.dev0,>=2.18.0 in c:\\programdata\\anaconda3\\lib\\site-packages (from google-api-core!=2.0.*,!=2.1.*,!=2.2.*,!=2.3.0,<3.0.0.dev0,>=1.31.5->google-api-python-client>=2.50.0->pygsheets) (2.31.0)\n",
      "Requirement already satisfied: cachetools<6.0,>=2.0.0 in c:\\users\\user\\appdata\\roaming\\python\\python311\\site-packages (from google-auth<3.0.0.dev0,>=1.19.0->google-api-python-client>=2.50.0->pygsheets) (5.3.2)\n",
      "Requirement already satisfied: pyasn1-modules>=0.2.1 in c:\\programdata\\anaconda3\\lib\\site-packages (from google-auth<3.0.0.dev0,>=1.19.0->google-api-python-client>=2.50.0->pygsheets) (0.2.8)\n",
      "Requirement already satisfied: rsa<5,>=3.1.4 in c:\\users\\user\\appdata\\roaming\\python\\python311\\site-packages (from google-auth<3.0.0.dev0,>=1.19.0->google-api-python-client>=2.50.0->pygsheets) (4.9)\n",
      "Requirement already satisfied: pyparsing!=3.0.0,!=3.0.1,!=3.0.2,!=3.0.3,<4,>=2.4.2 in c:\\programdata\\anaconda3\\lib\\site-packages (from httplib2<1.dev0,>=0.15.0->google-api-python-client>=2.50.0->pygsheets) (3.0.9)\n",
      "Requirement already satisfied: oauthlib>=3.0.0 in c:\\users\\user\\appdata\\roaming\\python\\python311\\site-packages (from requests-oauthlib>=0.7.0->google-auth-oauthlib>=0.7.1->pygsheets) (3.2.2)\n",
      "Requirement already satisfied: pyasn1<0.5.0,>=0.4.6 in c:\\programdata\\anaconda3\\lib\\site-packages (from pyasn1-modules>=0.2.1->google-auth<3.0.0.dev0,>=1.19.0->google-api-python-client>=2.50.0->pygsheets) (0.4.8)\n",
      "Requirement already satisfied: charset-normalizer<4,>=2 in c:\\programdata\\anaconda3\\lib\\site-packages (from requests<3.0.0.dev0,>=2.18.0->google-api-core!=2.0.*,!=2.1.*,!=2.2.*,!=2.3.0,<3.0.0.dev0,>=1.31.5->google-api-python-client>=2.50.0->pygsheets) (2.0.4)\n",
      "Requirement already satisfied: idna<4,>=2.5 in c:\\programdata\\anaconda3\\lib\\site-packages (from requests<3.0.0.dev0,>=2.18.0->google-api-core!=2.0.*,!=2.1.*,!=2.2.*,!=2.3.0,<3.0.0.dev0,>=1.31.5->google-api-python-client>=2.50.0->pygsheets) (3.4)\n",
      "Requirement already satisfied: urllib3<3,>=1.21.1 in c:\\programdata\\anaconda3\\lib\\site-packages (from requests<3.0.0.dev0,>=2.18.0->google-api-core!=2.0.*,!=2.1.*,!=2.2.*,!=2.3.0,<3.0.0.dev0,>=1.31.5->google-api-python-client>=2.50.0->pygsheets) (1.26.18)\n",
      "Requirement already satisfied: certifi>=2017.4.17 in c:\\programdata\\anaconda3\\lib\\site-packages (from requests<3.0.0.dev0,>=2.18.0->google-api-core!=2.0.*,!=2.1.*,!=2.2.*,!=2.3.0,<3.0.0.dev0,>=1.31.5->google-api-python-client>=2.50.0->pygsheets) (2023.7.22)\n"
     ]
    }
   ],
   "source": [
    "!pip install pygsheets"
   ]
  },
  {
   "cell_type": "code",
   "execution_count": 3,
   "id": "3819a2f7",
   "metadata": {},
   "outputs": [
    {
     "data": {
      "text/html": [
       "<div>\n",
       "<style scoped>\n",
       "    .dataframe tbody tr th:only-of-type {\n",
       "        vertical-align: middle;\n",
       "    }\n",
       "\n",
       "    .dataframe tbody tr th {\n",
       "        vertical-align: top;\n",
       "    }\n",
       "\n",
       "    .dataframe thead th {\n",
       "        text-align: right;\n",
       "    }\n",
       "</style>\n",
       "<table border=\"1\" class=\"dataframe\">\n",
       "  <thead>\n",
       "    <tr style=\"text-align: right;\">\n",
       "      <th></th>\n",
       "      <th>name</th>\n",
       "      <th>age</th>\n",
       "      <th>height</th>\n",
       "      <th>weight</th>\n",
       "    </tr>\n",
       "  </thead>\n",
       "  <tbody>\n",
       "    <tr>\n",
       "      <th>0</th>\n",
       "      <td>John</td>\n",
       "      <td>10</td>\n",
       "      <td>130</td>\n",
       "      <td>30</td>\n",
       "    </tr>\n",
       "    <tr>\n",
       "      <th>1</th>\n",
       "      <td>Steve</td>\n",
       "      <td>20</td>\n",
       "      <td>180</td>\n",
       "      <td>60</td>\n",
       "    </tr>\n",
       "    <tr>\n",
       "      <th>2</th>\n",
       "      <td>Sarah</td>\n",
       "      <td>30</td>\n",
       "      <td>160</td>\n",
       "      <td>45</td>\n",
       "    </tr>\n",
       "  </tbody>\n",
       "</table>\n",
       "</div>"
      ],
      "text/plain": [
       "    name  age  height  weight\n",
       "0   John   10     130      30\n",
       "1  Steve   20     180      60\n",
       "2  Sarah   30     160      45"
      ]
     },
     "execution_count": 3,
     "metadata": {},
     "output_type": "execute_result"
    }
   ],
   "source": [
    "# construct a dataframe from dictionary\n",
    "import pandas as pd\n",
    "\n",
    "lstOfHeader = ['name', 'age', 'height', 'weight']\n",
    "lstOfData = []\n",
    "lstOfData.append({'name': 'John', 'age': 10, 'height': 130, 'weight': 30})\n",
    "lstOfData.append({'name': 'Steve', 'age': 20, 'height': 180, 'weight': 60})\n",
    "lstOfData.append({'name': 'Sarah', 'age': 30, 'height': 160, 'weight': 45})\n",
    "# Create dataframe with data\n",
    "df = pd.DataFrame(lstOfData, columns=lstOfHeader)\n",
    "df"
   ]
  },
  {
   "cell_type": "code",
   "execution_count": 6,
   "id": "c1d67251",
   "metadata": {},
   "outputs": [],
   "source": [
    "import pygsheets\n",
    "#authorization\n",
    "# C:\\Temp\\DataForPython\\google_cred\n",
    "#gc = pygsheets.authorize(service_file='/Temp/DataForPython/google_cred/tangential-rush-408213-8056470ce8a9.json')\n",
    "gc = pygsheets.authorize(service_file='C:\\\\Temp\\\\DataForPython\\\\google_cred\\\\tangential-rush-408213-8056470ce8a9.json')\n",
    "\n",
    "#open the google spreadsheet (where 'PY to Gsheet Test' is the name of my sheet)\n",
    "spreadsheet_key = '1dlf9fcnwhUY5PfV7Vh2Q203q9oE2rCD4wKiPqaODVJ4'\n",
    "spreadsheet_name = 'KC to Gsheet Test'\n",
    "# sh = gc.open(spreadsheet_name)\n",
    "sh = gc.open_by_key(spreadsheet_key)\n",
    "#select the first sheet \n",
    "wks = sh[0]\n",
    "#update the first sheet with df, starting at cell B2. \n",
    "wks.set_dataframe(df,(1,1))"
   ]
  },
  {
   "cell_type": "code",
   "execution_count": 10,
   "id": "48aeaa28",
   "metadata": {},
   "outputs": [
    {
     "name": "stdout",
     "output_type": "stream",
     "text": [
      "B2:  10\n"
     ]
    }
   ],
   "source": [
    "# get cell B2\n",
    "print('B2: ', wks.cell('B2').value)"
   ]
  },
  {
   "cell_type": "code",
   "execution_count": 11,
   "id": "6619c5ba",
   "metadata": {},
   "outputs": [
    {
     "name": "stdout",
     "output_type": "stream",
     "text": [
      "(1, 3):  height\n"
     ]
    }
   ],
   "source": [
    "# get cell (1, 3)\n",
    "tplCoordinate = (1, 3)\n",
    "print('(1, 3): ', wks.cell(tplCoordinate).value)"
   ]
  },
  {
   "cell_type": "code",
   "execution_count": null,
   "id": "227318bd",
   "metadata": {},
   "outputs": [],
   "source": []
  }
 ],
 "metadata": {
  "kernelspec": {
   "display_name": "Python 3 (ipykernel)",
   "language": "python",
   "name": "python3"
  },
  "language_info": {
   "codemirror_mode": {
    "name": "ipython",
    "version": 3
   },
   "file_extension": ".py",
   "mimetype": "text/x-python",
   "name": "python",
   "nbconvert_exporter": "python",
   "pygments_lexer": "ipython3",
   "version": "3.11.5"
  }
 },
 "nbformat": 4,
 "nbformat_minor": 5
}

{
 "cells": [
  {
   "cell_type": "markdown",
   "id": "d77d3f9f",
   "metadata": {},
   "source": [
    "There are almost 40,000 rows in given excel file.\n",
    "\n",
    "The requirement is change the Total Column to 0 if Date Column is in February."
   ]
  },
  {
   "cell_type": "code",
   "execution_count": null,
   "id": "b8edad35",
   "metadata": {},
   "outputs": [],
   "source": [
    "import openpyxl\n",
    "import datetime"
   ]
  },
  {
   "cell_type": "code",
   "execution_count": null,
   "id": "23ddd535",
   "metadata": {},
   "outputs": [],
   "source": [
    "xlBook = openpyxl.load_workbook('datainfo.xlsx')\n",
    "xlSheet = xlBook['Sheet1']\n",
    "# i = 0\n",
    "for r in xlSheet['C']:\n",
    "#     if i>50:\n",
    "#         continue\n",
    "    if type(r.value) != datetime.datetime:\n",
    "        continue\n",
    "    if r.value.month == 2:\n",
    "        # print('row: ', r.row)\n",
    "        xlSheet.cell(row=r.row, column=6).value = 0\n",
    "#   i += 1\n",
    "xlBook.save('datainfo_02.xlsx')"
   ]
  }
 ],
 "metadata": {
  "kernelspec": {
   "display_name": "Python 3 (ipykernel)",
   "language": "python",
   "name": "python3"
  },
  "language_info": {
   "codemirror_mode": {
    "name": "ipython",
    "version": 3
   },
   "file_extension": ".py",
   "mimetype": "text/x-python",
   "name": "python",
   "nbconvert_exporter": "python",
   "pygments_lexer": "ipython3",
   "version": "3.11.5"
  }
 },
 "nbformat": 4,
 "nbformat_minor": 5
}

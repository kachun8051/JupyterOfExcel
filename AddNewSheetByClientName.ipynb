{
 "cells": [
  {
   "cell_type": "markdown",
   "id": "87c731ed",
   "metadata": {},
   "source": [
    "There are almost 40,000 rows in given excel file.\n",
    "\n",
    "The requirment is make a new worksheet for each client name which\n",
    "\n",
    "contains their own row(s)"
   ]
  },
  {
   "cell_type": "code",
   "execution_count": null,
   "id": "442e14a4",
   "metadata": {},
   "outputs": [],
   "source": [
    "import openpyxl\n",
    "import datetime"
   ]
  },
  {
   "cell_type": "code",
   "execution_count": null,
   "id": "d288eb46",
   "metadata": {},
   "outputs": [],
   "source": [
    "xlBook2 = openpyxl.load_workbook('datainfo.xlsx')\n",
    "xlSheet2 = xlBook2['Sheet1']\n",
    "dictClient = {}\n",
    "lstClient = []\n",
    "\n",
    "def firstRow(_sheet)->list:\n",
    "    lst = []\n",
    "    for rows in _sheet.iter_rows(min_row=1, max_row=1, min_col=1):\n",
    "        for cell in rows:\n",
    "            lst.append(cell.value)\n",
    "    return lst\n",
    "\n",
    "def firstRow2(_sheet)->list:\n",
    "    return [cell.value for cell in _sheet[1]]\n",
    "\n",
    "def getNowInStr():\n",
    "    dtNow = datetime.datetime.now()\n",
    "    strNow = dtNow.strftime(\"%Y%m%d%H%M%S\")\n",
    "    return strNow \n",
    "\n",
    "def addClient(_client)->bool:\n",
    "    if _client in dictClient:\n",
    "        num = dictClient[_client]\n",
    "        dictClient[_client] = num + 1\n",
    "        return True\n",
    "    else:\n",
    "        dictClient[_client] = 1\n",
    "        return False\n",
    "\n",
    "def isWorkSheetExist(_book, _sheetname)->bool:\n",
    "    for sheetname in _book.sheetnames:\n",
    "        if sheetname == _sheetname:\n",
    "            #print(_sheetname, ' existed.')\n",
    "            return True\n",
    "    #print(_sheetname, ' does NOT exist!!!')\n",
    "    return False\n",
    "\n",
    "def traverseIt():\n",
    "    for row in xlSheet2.iter_rows(min_row=2, values_only=True):\n",
    "        client_name = row[0]\n",
    "        isExist = addClient(client_name)\n",
    "        if isExist == False:\n",
    "            isSheetExist = isWorkSheetExist(xlBook2, client_name)\n",
    "            if not isSheetExist:                \n",
    "                xlBook2.create_sheet(title=client_name)\n",
    "                xlBook2[client_name].append(lstHeader)\n",
    "                print(\"Worksheet: \", client_name, \" is created.\")        \n",
    "        xlBook2[client_name].append(row)\n",
    "\n",
    "#print(firstRow2(xlSheet2))\n",
    "lstHeader = firstRow(xlSheet2)\n",
    "#print(lstHeader)\n",
    "traverseIt()\n",
    "fName = 'datainfo_' + getNowInStr() + '.xlsx'\n",
    "xlBook2.save(fName)\n",
    "print(fName, ' is saved.')"
   ]
  },
  {
   "cell_type": "code",
   "execution_count": null,
   "id": "ebf1916a",
   "metadata": {},
   "outputs": [],
   "source": [
    "import json\n",
    "json.dumps(dictClient)"
   ]
  },
  {
   "cell_type": "code",
   "execution_count": null,
   "id": "ec2d4885",
   "metadata": {},
   "outputs": [],
   "source": [
    "total_count = 0\n",
    "for client in dictClient:\n",
    "    total_count += dictClient[client]\n",
    "print('Total Count: ', total_count)"
   ]
  },
  {
   "cell_type": "code",
   "execution_count": null,
   "id": "6a40168f",
   "metadata": {},
   "outputs": [],
   "source": []
  }
 ],
 "metadata": {
  "kernelspec": {
   "display_name": "Python 3 (ipykernel)",
   "language": "python",
   "name": "python3"
  },
  "language_info": {
   "codemirror_mode": {
    "name": "ipython",
    "version": 3
   },
   "file_extension": ".py",
   "mimetype": "text/x-python",
   "name": "python",
   "nbconvert_exporter": "python",
   "pygments_lexer": "ipython3",
   "version": "3.11.5"
  }
 },
 "nbformat": 4,
 "nbformat_minor": 5
}

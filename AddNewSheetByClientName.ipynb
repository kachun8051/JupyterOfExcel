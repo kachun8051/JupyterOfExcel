{
 "cells": [
  {
   "cell_type": "markdown",
   "id": "2d949ae0",
   "metadata": {},
   "source": [
    "There are almost 40,000 rows in given excel file.\n",
    "\n",
    "The requirment is make a new worksheet for each client name which\n",
    "\n",
    "contains their own row(s)"
   ]
  },
  {
   "cell_type": "code",
   "execution_count": 1,
   "id": "f6b0f51c",
   "metadata": {},
   "outputs": [],
   "source": [
    "import openpyxl\n",
    "import datetime"
   ]
  },
  {
   "cell_type": "code",
   "execution_count": 2,
   "id": "2d390883",
   "metadata": {},
   "outputs": [
    {
     "name": "stdout",
     "output_type": "stream",
     "text": [
      "BLACK SHOP\n",
      "BLACK SHOP  does NOT exist!!!\n",
      "DAVID CO LTD\n",
      "DAVID CO LTD  does NOT exist!!!\n",
      "DUCK TAK CO\n",
      "DUCK TAK CO  does NOT exist!!!\n",
      "LA LA SHOP\n",
      "LA LA SHOP  does NOT exist!!!\n",
      "WHIZ CENTER\n",
      "WHIZ CENTER  does NOT exist!!!\n",
      "ONE MAN CO\n",
      "ONE MAN CO  does NOT exist!!!\n",
      "ABC CO\n",
      "ABC CO  does NOT exist!!!\n",
      "NO CO LTD\n",
      "NO CO LTD  does NOT exist!!!\n"
     ]
    }
   ],
   "source": [
    "xlBook2 = openpyxl.load_workbook('datainfo.xlsx')\n",
    "xlSheet2 = xlBook2['Sheet1']\n",
    "j = 0\n",
    "lstClient = []\n",
    "\n",
    "#xlSheet2.rows\n",
    "\n",
    "def firstRow(_sheet)->list:\n",
    "    lst = []\n",
    "    for rows in _sheet.iter_rows(min_row=1, max_row=1, min_col=1):\n",
    "        for cell in rows:\n",
    "            lst.append(cell.value)\n",
    "    return lst\n",
    "\n",
    "def firstRow2(_sheet)->list:\n",
    "    return [cell.value for cell in _sheet[1]]\n",
    "\n",
    "def isSheetExist(_book, _sheetname)->bool:\n",
    "    for sheetname in _book.sheetnames:\n",
    "        if sheetname == _sheetname:\n",
    "            print(_sheetname, ' existed.')\n",
    "            return True\n",
    "    print(_sheetname, ' does NOT exist!!!')\n",
    "    return False\n",
    "\n",
    "def traverseIt():\n",
    "    for row in xlSheet2.iter_rows(min_row=2, values_only=True):\n",
    "        client_name = row[0]\n",
    "        if not client_name in lstClient:\n",
    "            lstClient.append(client_name)\n",
    "            print(client_name)\n",
    "            isExist = isSheetExist(xlBook2, client_name)\n",
    "            if not isExist:\n",
    "                xlBook2.create_sheet(title=client_name)\n",
    "                xlBook2[client_name].append(lstHeader)\n",
    "        xlBook2[client_name].append(row)\n",
    "\n",
    "#print(firstRow2(xlSheet2))\n",
    "lstHeader = firstRow(xlSheet2)\n",
    "#print(lstHeader)\n",
    "traverseIt()\n",
    "xlBook2.save('datainfo_03.xlsx')"
   ]
  }
 ],
 "metadata": {
  "kernelspec": {
   "display_name": "Python 3 (ipykernel)",
   "language": "python",
   "name": "python3"
  },
  "language_info": {
   "codemirror_mode": {
    "name": "ipython",
    "version": 3
   },
   "file_extension": ".py",
   "mimetype": "text/x-python",
   "name": "python",
   "nbconvert_exporter": "python",
   "pygments_lexer": "ipython3",
   "version": "3.11.5"
  }
 },
 "nbformat": 4,
 "nbformat_minor": 5
}
